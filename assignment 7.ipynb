{
 "cells": [
  {
   "cell_type": "code",
   "execution_count": 58,
   "id": "8fa5e9c4-26bb-4a97-94cd-be60102e9401",
   "metadata": {
    "tags": []
   },
   "outputs": [
    {
     "name": "stdout",
     "output_type": "stream",
     "text": [
      "  age  workclass  fnlwgt     education education-num      marital-status  \\\n",
      "0  25    Private  226802          11th             7       Never-married   \n",
      "1  38    Private   89814       HS-grad             9  Married-civ-spouse   \n",
      "2  28  Local-gov  336951    Assoc-acdm            12  Married-civ-spouse   \n",
      "3  44    Private  160323  Some-college            10  Married-civ-spouse   \n",
      "4  18        NaN  103497  Some-college            10       Never-married   \n",
      "\n",
      "          occupation relationship   race     sex capital-gain capital-loss  \\\n",
      "0  Machine-op-inspct    Own-child  Black    Male            0            0   \n",
      "1    Farming-fishing      Husband  White    Male            0            0   \n",
      "2    Protective-serv      Husband  White    Male            0            0   \n",
      "3  Machine-op-inspct      Husband  Black    Male         7688            0   \n",
      "4                NaN    Own-child  White  Female            0            0   \n",
      "\n",
      "  hours-per-week native-country income  \n",
      "0             40  United-States  <=50K  \n",
      "1             50  United-States  <=50K  \n",
      "2             40  United-States   >50K  \n",
      "3             40  United-States   >50K  \n",
      "4             30  United-States  <=50K  \n"
     ]
    }
   ],
   "source": [
    "\n",
    "import pandas as pd\n",
    "import numpy as np\n",
    "import sklearn as sklearn\n",
    "import matplotlib.pyplot as plt\n",
    "from sklearn.preprocessing import LabelEncoder, StandardScaler\n",
    "from sklearn.model_selection import train_test_split\n",
    "\n",
    "#import edip column'larımın kategorilerini tanımladım\n",
    "file_path = \"/Users/elifozlem/Downloads/adult income (1).csv\" \n",
    "data = pd.read_csv(file_path, header=None, names=[\"age\", \"workclass\", \"fnlwgt\", \"education\", \"education-num\", \n",
    "                                                  \"marital-status\", \"occupation\", \"relationship\", \"race\", \n",
    "                                                  \"sex\", \"capital-gain\", \"capital-loss\", \"hours-per-week\", \n",
    "                                                  \"native-country\", \"income\"])\n",
    "#clean data (I deleted the first row because it included the titles as in the 0th index row)\n",
    "data.replace('?', np.nan, inplace=True)\n",
    "data.drop(index=0, inplace=True)\n",
    "data.reset_index(drop=True, inplace=True)\n",
    "print(data.head())\n"
   ]
  },
  {
   "cell_type": "code",
   "execution_count": 44,
   "id": "7a7f9e31-89fc-4aa8-94b0-69b45a096fb7",
   "metadata": {
    "tags": []
   },
   "outputs": [],
   "source": [
    "#defining x,y acc to class notes gave AttributeError: 'DataFrame' object has no attribute 'data', so I used another method by chatgpt"
   ]
  },
  {
   "cell_type": "code",
   "execution_count": 62,
   "id": "cd135f98-ba37-481c-be8a-49ced627dfbe",
   "metadata": {
    "tags": []
   },
   "outputs": [
    {
     "name": "stdout",
     "output_type": "stream",
     "text": [
      "X_train:  (39073, 29016)\n",
      "X_test:  (9769, 29016)\n",
      "y_train : (39073,)\n",
      "y_test:  (9769,)\n"
     ]
    }
   ],
   "source": [
    "#I used label encoder with the help of gpt because it gave error when using linear reg.\n",
    "label_encoder = LabelEncoder()\n",
    "data['income'] = label_encoder.fit_transform(data['income'])\n",
    "\n",
    "\n",
    "data = pd.get_dummies(data, drop_first=True)\n",
    "\n",
    "\n",
    "X = data.drop(\"income\", axis=1)  # Features\n",
    "y = data[\"income\"]               # Target variable\n",
    "\n",
    "X_train, X_test, y_train, y_test = train_test_split(X, y, test_size=0.2, random_state=42)\n",
    "print(\"X_train: \", X_train.shape) #burası training  features\n",
    "print(\"X_test: \", X_test.shape) #burası test features\n",
    "print(\"y_train :\", y_train.shape) #training target\n",
    "print(\"y_test: \", y_test.shape) #test target"
   ]
  },
  {
   "cell_type": "code",
   "execution_count": null,
   "id": "15fdec83-f07e-4001-9d6b-5cda1603e629",
   "metadata": {},
   "outputs": [],
   "source": [
    "#linear regression modeli entegre ettim"
   ]
  },
  {
   "cell_type": "code",
   "execution_count": 52,
   "id": "37528bfb-0fd8-4f62-97e9-06510889cd9d",
   "metadata": {
    "tags": []
   },
   "outputs": [],
   "source": [
    "from sklearn.model_selection import train_test_split\n",
    "from sklearn.linear_model import LinearRegression\n",
    "from sklearn.metrics import mean_squared_error, r2_score"
   ]
  },
  {
   "cell_type": "code",
   "execution_count": null,
   "id": "2a5cb71d-dea0-45c5-a1eb-65a65ecf11df",
   "metadata": {
    "tags": []
   },
   "outputs": [],
   "source": [
    "model = LinearRegression()\n",
    "model.fit(X_train, y_train)\n",
    "y_pred = model.predict(X_test)\n",
    "mse = mean_squared_error(y_test, y_pred)\n",
    "r2 = r2_score(y_test, y_pred)\n",
    "\n",
    "#evaluation metrics\n",
    "print(\"Mean Squared Error:\", mse)\n",
    "print(\"R-squared :\", r2)"
   ]
  },
  {
   "cell_type": "code",
   "execution_count": null,
   "id": "0cf16f57-2351-4510-a0a7-fdc2a7b40b6e",
   "metadata": {},
   "outputs": [],
   "source": [
    "decisiontree = DecisionTreeClassifier(random_state=42)\n",
    "\n",
    "\n",
    "decisiontree.fit(X_train, y_train)\n",
    "\n",
    "\n",
    "y_pred = decisiontree.predict(X_test)\n",
    "\n",
    "accuracy = accuracy_score(y_test, y_pred)\n",
    "conf_matrix = confusion_matrix(y_test, y_pred)\n",
    "class_report = classification_report(y_test, y_pred)\n",
    "\n",
    "\n",
    "print(\"Accuracy:\", accuracy)\n",
    "print(\"Confusion Matrix:\\n\", conf_matrix)\n",
    "print(\"Classification Report:\\n\", class_report)"
   ]
  },
  {
   "cell_type": "code",
   "execution_count": null,
   "id": "2681dcb8-00b9-408a-a815-13070caf7397",
   "metadata": {},
   "outputs": [],
   "source": [
    "randomforest = RandomForestClassifier()\n",
    "randomforest.fit(X_train, y_train)\n",
    "y_pred_randomforest = random_forest.predict(X_test)\n",
    "accuracy_random_forest = accuracy_score(y_test, y_pred_randomforest)\n",
    "print(\"Random Forest accuracy:\", accuracy_randomforest)\n",
    "print(\"Random Forest Report:\")\n",
    "print(classification_report(y_test, y_pred_randomforest))\n",
    "print(\"Confusion Matrix:\")\n",
    "print(confusion_matrix(y_test, y_pred_randomforest), \"\\n\")"
   ]
  }
 ],
 "metadata": {
  "kernelspec": {
   "display_name": "Python 3 (ipykernel)",
   "language": "python",
   "name": "python3"
  },
  "language_info": {
   "codemirror_mode": {
    "name": "ipython",
    "version": 3
   },
   "file_extension": ".py",
   "mimetype": "text/x-python",
   "name": "python",
   "nbconvert_exporter": "python",
   "pygments_lexer": "ipython3",
   "version": "3.11.5"
  }
 },
 "nbformat": 4,
 "nbformat_minor": 5
}
