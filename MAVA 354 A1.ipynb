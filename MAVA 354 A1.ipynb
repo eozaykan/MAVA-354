{
 "cells": [
  {
   "cell_type": "code",
   "execution_count": null,
   "id": "e45aaf80-eeba-4194-8d0a-bc7af76633c2",
   "metadata": {},
   "outputs": [],
   "source": [
    "#1. Produce a number guessing game, in which the user will make a guess from 1 to 20, and the program is going to report whether the number is correct."
   ]
  },
  {
   "cell_type": "code",
   "execution_count": 16,
   "id": "f7806d6a-e1c1-44b4-921a-44005c062de7",
   "metadata": {
    "tags": []
   },
   "outputs": [
    {
     "name": "stdin",
     "output_type": "stream",
     "text": [
      "Pick a number between 1 and 20:  7\n"
     ]
    },
    {
     "name": "stdout",
     "output_type": "stream",
     "text": [
      "No, this number is bigger than the correct one!\n"
     ]
    },
    {
     "name": "stdin",
     "output_type": "stream",
     "text": [
      "Pick a number between 1 and 20:  5\n"
     ]
    },
    {
     "name": "stdout",
     "output_type": "stream",
     "text": [
      "No, this number is bigger than the correct one!\n"
     ]
    },
    {
     "name": "stdin",
     "output_type": "stream",
     "text": [
      "Pick a number between 1 and 20:  1\n"
     ]
    },
    {
     "name": "stdout",
     "output_type": "stream",
     "text": [
      "No, this number is smaller than the correct one!\n"
     ]
    },
    {
     "name": "stdin",
     "output_type": "stream",
     "text": [
      "Pick a number between 1 and 20:  4\n"
     ]
    },
    {
     "name": "stdout",
     "output_type": "stream",
     "text": [
      "Congrats! You've picked the correct one!\n"
     ]
    }
   ],
   "source": [
    "import random\n",
    "\n",
    "my_number= random.randint(1,20)\n",
    "\n",
    "x=1\n",
    "\n",
    "while x==1:\n",
    "    user_number= int(input ('Pick a number between 1 and 20: '))\n",
    "    if my_number==user_number:\n",
    "        x=2\n",
    "        print (\"Congrats! You've picked the correct one!\")\n",
    "    elif my_number<user_number:\n",
    "        print(\"No, this number is bigger than the correct one!\")\n",
    "                       \n",
    "        x=1\n",
    "                        \n",
    "    elif my_number>user_number:\n",
    "        print(\"No, this number is smaller than the correct one!\")\n",
    "                        \n",
    "        x=1\n",
    "                    \n",
    "                    \n",
    "    \n",
    "\n",
    "\n"
   ]
  },
  {
   "cell_type": "code",
   "execution_count": null,
   "id": "f29ac8a7-04c2-4854-b982-d8b9b5de7ae6",
   "metadata": {},
   "outputs": [],
   "source": [
    "#2. Given a sorted array of distinct integers and a target value, return the index if the target is found. If not, return the index where it would be if it were inserted in order"
   ]
  },
  {
   "cell_type": "code",
   "execution_count": 46,
   "id": "bdfe03d8-dacb-4b8b-aec0-75bd8ccd1a50",
   "metadata": {
    "tags": []
   },
   "outputs": [
    {
     "name": "stdin",
     "output_type": "stream",
     "text": [
      "Give me the sorted array of distinct integers:  4567\n",
      "Give me your target number:  4\n"
     ]
    },
    {
     "name": "stdout",
     "output_type": "stream",
     "text": [
      "The index of your target number is:  1\n"
     ]
    }
   ],
   "source": [
    "my_list=input(\"Give me the sorted array of some distinct integers: \")\n",
    "my_target=input(\"Give me your target number: \")\n",
    "\n",
    "if my_target in my_list:\n",
    "    for i in range (0,len(my_list)):\n",
    "        indexofmytarget=my_list.index(my_target)+1\n",
    "    print(\"The index of your target number is: \",indexofmytarget)\n",
    "else: \n",
    "    x=1\n",
    "    for j in my_list:\n",
    "        if j<my_target or j==my_target:\n",
    "            indexofmytarget=my_list.index(j)+2\n",
    "        else:\n",
    "            indexofmytarget=my_list.index(j)\n",
    "    print(\"The index of your target number would be: \",indexofmytarget)\n",
    "            \n",
    "       \n"
   ]
  },
  {
   "cell_type": "code",
   "execution_count": null,
   "id": "6d76370b-b98f-450f-beaa-0582ed232281",
   "metadata": {},
   "outputs": [],
   "source": [
    "#3. Given two binary strings a and b, return their sum as a binary string."
   ]
  },
  {
   "cell_type": "code",
   "execution_count": null,
   "id": "f4a65ee1-c84a-42f3-abf8-905570f1406c",
   "metadata": {},
   "outputs": [],
   "source": [
    "a=input(\"a: \")\n",
    "b=input(\"b: \")\n",
    "\n"
   ]
  },
  {
   "cell_type": "code",
   "execution_count": null,
   "id": "7a962913-aaa3-421c-a314-5e36db40b9e2",
   "metadata": {},
   "outputs": [],
   "source": [
    "#4. Given a non-empty array of integers numbers, every element appears twice except for one. Find that single one."
   ]
  },
  {
   "cell_type": "code",
   "execution_count": 52,
   "id": "7e10dbd2-6b49-492f-ae6d-962eb383f41d",
   "metadata": {
    "tags": []
   },
   "outputs": [
    {
     "name": "stdin",
     "output_type": "stream",
     "text": [
      "Give me a non-empty array of integers numbers, every element appears twice except for one:  223336677889\n"
     ]
    },
    {
     "name": "stdout",
     "output_type": "stream",
     "text": [
      "9\n"
     ]
    }
   ],
   "source": [
    "my_array=input(\"Give me a non-empty array of integers numbers, every element should appear twice except for one: \")\n",
    "x=1\n",
    "for i in my_array:\n",
    "    for j in my_array:\n",
    "        if i!=j:\n",
    "            x=2\n",
    "if x==2:\n",
    "    print(i)\n",
    "        \n",
    "        "
   ]
  },
  {
   "cell_type": "code",
   "execution_count": null,
   "id": "881703b9-9deb-4dfc-afb5-a8e7ade74765",
   "metadata": {},
   "outputs": [],
   "source": [
    "#Given a string s that represents a DNA sequence, return all the 10-letter-long sequences (substrings) that occur more than once in a DNA molecule. You may return the answer in any order."
   ]
  },
  {
   "cell_type": "code",
   "execution_count": 102,
   "id": "6aad23a6-f43b-4e9f-a85e-9452d2904187",
   "metadata": {
    "tags": []
   },
   "outputs": [
    {
     "name": "stdout",
     "output_type": "stream",
     "text": [
      "['AAAAACCCCC', 'CCCCCAAAAA']\n"
     ]
    }
   ],
   "source": [
    "dna='AAAAACCCCCAAAAACCCCCCAAAAAGGGTTT'\n",
    "dna_substrings=[]\n",
    "main_list=[]\n",
    "output_list=[]\n",
    "x=1\n",
    "for i in range(len(dna)):\n",
    "        dna_substring = dna[i:i+10]\n",
    "        if len(dna_substring) == 10:\n",
    "            dna_substrings.append(dna_substring)\n",
    "for j in dna_substrings:\n",
    "    if j not in main_list:\n",
    "        main_list.append(j)\n",
    "    else:\n",
    "        if j not in output_list:\n",
    "            output_list.append(j)\n",
    "\n",
    "print(output_list)\n",
    "\n",
    "\n",
    "   \n"
   ]
  },
  {
   "cell_type": "code",
   "execution_count": null,
   "id": "c5f504ae-44ed-468e-afc0-8e2b9063b19e",
   "metadata": {},
   "outputs": [],
   "source": []
  },
  {
   "cell_type": "code",
   "execution_count": null,
   "id": "bef09e7d-971e-4ae2-a6ee-2c8af5aa033c",
   "metadata": {},
   "outputs": [],
   "source": []
  },
  {
   "cell_type": "code",
   "execution_count": null,
   "id": "c9220475-6ee2-4ef8-b5a4-39c262a6bba8",
   "metadata": {},
   "outputs": [],
   "source": []
  }
 ],
 "metadata": {
  "kernelspec": {
   "display_name": "Python 3 (ipykernel)",
   "language": "python",
   "name": "python3"
  },
  "language_info": {
   "codemirror_mode": {
    "name": "ipython",
    "version": 3
   },
   "file_extension": ".py",
   "mimetype": "text/x-python",
   "name": "python",
   "nbconvert_exporter": "python",
   "pygments_lexer": "ipython3",
   "version": "3.11.5"
  }
 },
 "nbformat": 4,
 "nbformat_minor": 5
}
