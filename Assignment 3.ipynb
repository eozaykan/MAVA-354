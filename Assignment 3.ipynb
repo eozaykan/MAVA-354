{
 "cells": [
  {
   "cell_type": "code",
   "execution_count": 11,
   "id": "d763e1c1-f116-498b-872d-5c889d987d54",
   "metadata": {
    "tags": []
   },
   "outputs": [
    {
     "data": {
      "text/plain": [
       "200"
      ]
     },
     "execution_count": 11,
     "metadata": {},
     "output_type": "execute_result"
    }
   ],
   "source": [
    "#I imported the libraries\n",
    "import pandas as pd\n",
    "import requests \n",
    "import scrapy \n",
    "from scrapy import Selector\n",
    "#url: I scraped to scrape.com because it was easy according to google\n",
    "url= 'https://books.toscrape.com/'\n",
    "url = 'http://books.toscrape.com/'\n",
    "response = requests.get(url)\n",
    "response.status_code "
   ]
  },
  {
   "cell_type": "code",
   "execution_count": 13,
   "id": "6a6fd45e-aec3-405c-afe9-d3fba1f79fb7",
   "metadata": {
    "tags": []
   },
   "outputs": [],
   "source": [
    "selector = Selector(text=response.text)"
   ]
  },
  {
   "cell_type": "code",
   "execution_count": 25,
   "id": "cd72b67f-098c-430b-8d28-578950291749",
   "metadata": {
    "tags": []
   },
   "outputs": [
    {
     "name": "stdout",
     "output_type": "stream",
     "text": [
      "Titles: 20, Prices: 20, Ratings: 60\n"
     ]
    }
   ],
   "source": [
    "#kitap title'ları price'ları vs aldım\n",
    "titles = selector.css('article.product_pod h3 a::attr(title)').getall()\n",
    "prices = selector.css('article.product_pod div.product_price p.price_color::text').getall()\n",
    "ratings = selector.css('article.product_pod p::attr(class)').getall()\n",
    "ratings = [rating.replace('star-rating ', '') for rating in ratings]\n",
    "print(f\"Titles: {len(titles)}, Prices: {len(prices)}, Ratings: {len(ratings)}\")\n"
   ]
  },
  {
   "cell_type": "code",
   "execution_count": 31,
   "id": "a387f5e6-1514-4aad-911e-201cb793bd37",
   "metadata": {
    "tags": []
   },
   "outputs": [
    {
     "name": "stdout",
     "output_type": "stream",
     "text": [
      "Data saved to books.csv\n"
     ]
    }
   ],
   "source": [
    "#bi dataframe oluşturdum , ama burada rating'lerin sayısı diğerlerinden farklı olduğu için error verdi, gpt ile düzeltmeye çalıştum\n",
    "min_length = min(len(titles), len(prices), len(ratings))\n",
    "titles = titles[:min_length]\n",
    "prices = prices[:min_length]\n",
    "ratings = ratings[:min_length]\n",
    "#bu düzeltme koduydu\n",
    "data = {\n",
    "    'Title': titles,\n",
    "    'Price': prices,\n",
    "    'Rating': ratings\n",
    "}\n",
    "df = pd.DataFrame(data)\n",
    "df.head()\n",
    "\n",
    "#csvye çevirdim\n",
    "\n",
    "file_path = 'books.csv'\n",
    "df.to_csv(file_path, index=False)\n",
    "print(f\"Data saved to {file_path}\")"
   ]
  },
  {
   "cell_type": "code",
   "execution_count": null,
   "id": "6e6c9809-f5f1-4b20-8fa8-4bb9eae7c2de",
   "metadata": {},
   "outputs": [],
   "source": []
  }
 ],
 "metadata": {
  "kernelspec": {
   "display_name": "Python 3 (ipykernel)",
   "language": "python",
   "name": "python3"
  },
  "language_info": {
   "codemirror_mode": {
    "name": "ipython",
    "version": 3
   },
   "file_extension": ".py",
   "mimetype": "text/x-python",
   "name": "python",
   "nbconvert_exporter": "python",
   "pygments_lexer": "ipython3",
   "version": "3.11.5"
  }
 },
 "nbformat": 4,
 "nbformat_minor": 5
}
