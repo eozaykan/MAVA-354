{
 "cells": [
  {
   "cell_type": "code",
   "execution_count": null,
   "id": "57a2342d-00ee-446b-9c6f-65d1a0dbdcec",
   "metadata": {},
   "outputs": [],
   "source": [
    "#size e-mail gönderdikten sonra kod iyice karıştı, en temiz versiyonunu yazmaya çalıştım GPT ile"
   ]
  },
  {
   "cell_type": "code",
   "execution_count": null,
   "id": "3853d851-3989-4379-a5a7-9c0c20159e59",
   "metadata": {},
   "outputs": [],
   "source": [
    "#file ve lib import, train test split:\n"
   ]
  },
  {
   "cell_type": "code",
   "execution_count": 1,
   "id": "058b33b7-1bb1-4b7e-b342-244e6748d207",
   "metadata": {
    "tags": []
   },
   "outputs": [],
   "source": [
    "import pandas as pd\n",
    "import numpy as np\n",
    "from sklearn.model_selection import train_test_split, GridSearchCV\n",
    "from sklearn.preprocessing import LabelEncoder, StandardScaler\n",
    "from sklearn.linear_model import LinearRegression\n",
    "from sklearn.tree import DecisionTreeClassifier\n",
    "from sklearn.ensemble import RandomForestClassifier\n",
    "from sklearn.metrics import accuracy_score, confusion_matrix, classification_report, mean_squared_error, r2_score\n",
    "import matplotlib.pyplot as plt\n",
    "import seaborn as sns"
   ]
  },
  {
   "cell_type": "code",
   "execution_count": null,
   "id": "a45243a1-afe1-4751-9d61-8cb18942ec5d",
   "metadata": {
    "tags": []
   },
   "outputs": [],
   "source": [
    "data = pd.read_csv(file_path, \n",
    "                   header=None, \n",
    "                   names=[\"age\", \"workclass\", \"fnlwgt\", \"education\", \"education-num\", \n",
    "                          \"marital-status\", \"occupation\", \"relationship\", \"race\", \n",
    "                          \"sex\", \"capital-gain\", \"capital-loss\", \"hours-per-week\", \n",
    "                          \"native-country\", \"income\"])\n",
    "\n",
    "# Replace '?' with NaN\n",
    "data.replace('?', np.nan, inplace=True)\n",
    "\n",
    "# Drop the first row\n",
    "data.drop(index=0, inplace=True)\n",
    "\n",
    "\n",
    "data.reset_index(drop=True, inplace=True)\n",
    "\n",
    "\n",
    "label_encoder = LabelEncoder()\n",
    "data['income'] = label_encoder.fit_transform(data['income'])\n",
    "\n",
    "\n",
    "data = pd.get_dummies(data, drop_first=True)\n",
    "\n",
    "\n",
    "X = data.drop(\"income\", axis=1)  # Features\n",
    "y = data[\"income\"]               # Target variable\n",
    "\n",
    "\n",
    "scaler = StandardScaler()\n",
    "X_scaled = scaler.fit_transform(X)\n",
    "\n",
    "\n",
    "X_train, X_test, y_train, y_test = train_test_split(X_scaled, y, test_size=0.2, random_state=42)"
   ]
  },
  {
   "cell_type": "code",
   "execution_count": 6,
   "id": "d1945ed4-56e0-436b-9a43-dbc7dd82cfcf",
   "metadata": {
    "tags": []
   },
   "outputs": [],
   "source": [
    "#daha önce private kelimesini işleyemediğine dair error aldığım için label encoder kullandım"
   ]
  },
  {
   "cell_type": "code",
   "execution_count": 9,
   "id": "73649968-9d16-4df2-ac2b-beafbd51a08c",
   "metadata": {
    "tags": []
   },
   "outputs": [
    {
     "name": "stdout",
     "output_type": "stream",
     "text": [
      "   income  age_18  age_19  age_20  age_21  age_22  age_23  age_24  age_25  \\\n",
      "0       0   False   False   False   False   False   False   False    True   \n",
      "1       0   False   False   False   False   False   False   False   False   \n",
      "2       1   False   False   False   False   False   False   False   False   \n",
      "3       1   False   False   False   False   False   False   False   False   \n",
      "4       0    True   False   False   False   False   False   False   False   \n",
      "\n",
      "   age_26  ...  native-country_Portugal  native-country_Puerto-Rico  \\\n",
      "0   False  ...                    False                       False   \n",
      "1   False  ...                    False                       False   \n",
      "2   False  ...                    False                       False   \n",
      "3   False  ...                    False                       False   \n",
      "4   False  ...                    False                       False   \n",
      "\n",
      "   native-country_Scotland  native-country_South  native-country_Taiwan  \\\n",
      "0                    False                 False                  False   \n",
      "1                    False                 False                  False   \n",
      "2                    False                 False                  False   \n",
      "3                    False                 False                  False   \n",
      "4                    False                 False                  False   \n",
      "\n",
      "   native-country_Thailand  native-country_Trinadad&Tobago  \\\n",
      "0                    False                           False   \n",
      "1                    False                           False   \n",
      "2                    False                           False   \n",
      "3                    False                           False   \n",
      "4                    False                           False   \n",
      "\n",
      "   native-country_United-States  native-country_Vietnam  \\\n",
      "0                          True                   False   \n",
      "1                          True                   False   \n",
      "2                          True                   False   \n",
      "3                          True                   False   \n",
      "4                          True                   False   \n",
      "\n",
      "   native-country_Yugoslavia  \n",
      "0                      False  \n",
      "1                      False  \n",
      "2                      False  \n",
      "3                      False  \n",
      "4                      False  \n",
      "\n",
      "[5 rows x 29017 columns]\n"
     ]
    }
   ],
   "source": [
    "from sklearn.preprocessing import LabelEncoder\n",
    "\n",
    "\n",
    "label_encoder = LabelEncoder()\n",
    "data['income'] = label_encoder.fit_transform(data['income'])\n",
    "\n",
    "\n",
    "data = pd.get_dummies(data, drop_first=True)\n",
    "\n",
    "\n",
    "print(data.head())"
   ]
  },
  {
   "cell_type": "code",
   "execution_count": null,
   "id": "229a37f3-ae3e-4305-a43b-f0606b1aa897",
   "metadata": {},
   "outputs": [],
   "source": [
    "#train ve test split"
   ]
  },
  {
   "cell_type": "code",
   "execution_count": null,
   "id": "2f645e40-4924-47ba-9b32-655329a9cc39",
   "metadata": {
    "tags": []
   },
   "outputs": [],
   "source": [
    "lin_reg = LinearRegression()\n",
    "\n",
    "# Train the model using the training data\n",
    "lin_reg.fit(X_train, y_train)\n",
    "\n",
    "# Make predictions on the testing data\n",
    "y_pred_lr = lin_reg.predict(X_test)\n",
    "\n",
    "# Evaluate the model's performance\n",
    "mse = mean_squared_error(y_test, y_pred_lr)\n",
    "r2 = r2_score(y_test, y_pred_lr)\n",
    "\n",
    "# Print the evaluation metrics\n",
    "print(\"Linear Regression - Mean Squared Error (MSE):\", mse)\n",
    "print(\"Linear Regression - R-squared (R2):\", r2)"
   ]
  },
  {
   "cell_type": "code",
   "execution_count": null,
   "id": "e5fa3564-cb5b-49c5-99ec-0faaa71a8a45",
   "metadata": {},
   "outputs": [],
   "source": [
    "rf_model = RandomForestClassifier(random_state=42)\n",
    "\n",
    "\n",
    "param_grid_rf = {\n",
    "    'n_estimators': [100, 200, 300],\n",
    "    'max_depth': [None, 10, 20, 30],\n",
    "    'min_samples_split': [2, 5, 10],\n",
    "    'min_samples_leaf': [1, 2, 4]\n",
    "}\n",
    "\n",
    "grid_search_rf = GridSearchCV(estimator=rf_model, param_grid=param_grid_rf, cv=5, scoring='accuracy')\n",
    "\n",
    "\n",
    "grid_search_rf.fit(X_train, y_train)\n",
    "\n",
    "\n",
    "best_rf_model = grid_search_rf.best_estimator_\n",
    "\n",
    "\n",
    "y_pred_rf = best_rf_model.predict(X_test)\n",
    "\n",
    "\n",
    "accuracy_rf = accuracy_score(y_test, y_pred_rf)\n",
    "conf_matrix_rf = confusion_matrix(y_test, y_pred_rf)\n",
    "class_report_rf = classification_report(y_test, y_pred_rf)\n",
    "\n",
    "\n",
    "print(\"Random Forest - Accuracy:\", accuracy_rf)\n",
    "print(\"Random Forest - Confusion Matrix:\\n\", conf_matrix_rf)\n",
    "print(\"Random Forest - Classification Report:\\n\", class_report_rf)"
   ]
  },
  {
   "cell_type": "code",
   "execution_count": null,
   "id": "ef3642ad-edce-48be-909e-c4cf2d8cac10",
   "metadata": {},
   "outputs": [],
   "source": [
    "dt_model = DecisionTreeClassifier(random_state=42)\n",
    "\n",
    "#sorun çıktığı için gpt tune ve implementation'ı birlikte yaptırdı\n",
    "param_grid_dt = {'max_depth': [None, 10, 20, 30],\n",
    "                 'min_samples_split': [2, 5, 10],\n",
    "                 'min_samples_leaf': [1, 2, 4]}\n",
    "\n",
    "\n",
    "grid_search_dt = GridSearchCV(estimator=dt_model, param_grid=param_grid_dt, cv=5, scoring='accuracy')\n",
    "\n",
    "\n",
    "grid_search_dt.fit(X_train, y_train)\n",
    "\n",
    "\n",
    "best_dt_model = grid_search_dt.best_estimator_\n",
    "\n",
    "\n",
    "y_pred_dt = best_dt_model.predict(X_test)\n",
    "\n",
    "\n",
    "accuracy_dt = accuracy_score(y_test, y_pred_dt)\n",
    "conf_matrix_dt = confusion_matrix(y_test, y_pred_dt)\n",
    "class_report_dt = classification_report(y_test, y_pred_dt)\n",
    "\n",
    "\n",
    "print(\"Decision Tree - Accuracy:\", accuracy_dt)\n",
    "print(\"Decision Tree - Confusion Matrix:\\n\", conf_matrix_dt)\n",
    "print(\"Decision Tree - Classification Report:\\n\", class_report_dt)"
   ]
  },
  {
   "cell_type": "code",
   "execution_count": null,
   "id": "bd5a84fa-83f0-4e92-971c-afeb826e2f73",
   "metadata": {},
   "outputs": [],
   "source": [
    "plt.figure(figsize=(10, 6))\n",
    "plt.scatter(y_test, y_pred_lr, alpha=0.3)\n",
    "plt.plot([0, 1], [0, 1], 'r--')\n",
    "plt.xlabel('True Values')\n",
    "plt.ylabel('Predicted Values')\n",
    "plt.title('Linear Regression: True vs Predicted Values')\n",
    "plt.show()\n",
    "\n",
    "\n",
    "plt.figure(figsize=(10, 6))\n",
    "sns.heatmap(conf_matrix_dt, annot=True, fmt='d', cmap='Blues')\n",
    "plt.xlabel('Predicted')\n",
    "plt.ylabel('True')\n",
    "plt.title('Decision Tree: Confusion Matrix')\n",
    "plt.show()\n",
    "\n",
    "\n",
    "plt.figure(figsize=(10, 6))\n",
    "sns.heatmap(conf_matrix_rf, annot=True, fmt='d', cmap='Greens')\n",
    "plt.xlabel('Predicted')\n",
    "plt.ylabel('True')\n",
    "plt.title('Random Forest: Confusion Matrix')\n",
    "plt.show()"
   ]
  }
 ],
 "metadata": {
  "kernelspec": {
   "display_name": "Python 3 (ipykernel)",
   "language": "python",
   "name": "python3"
  },
  "language_info": {
   "codemirror_mode": {
    "name": "ipython",
    "version": 3
   },
   "file_extension": ".py",
   "mimetype": "text/x-python",
   "name": "python",
   "nbconvert_exporter": "python",
   "pygments_lexer": "ipython3",
   "version": "3.11.5"
  }
 },
 "nbformat": 4,
 "nbformat_minor": 5
}
